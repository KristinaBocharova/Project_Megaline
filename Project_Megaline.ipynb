{
 "cells": [
  {
   "cell_type": "markdown",
   "metadata": {},
   "source": [
    "**Review**\n",
    "\n",
    "Hello Kristina!\n",
    "\n",
    "I'm happy to review your project today.\n",
    "  \n",
    "You can find my comments in colored markdown cells:\n",
    "  \n",
    "<div class=\"alert alert-success\">\n",
    "  If everything is done successfully.\n",
    "</div>\n",
    "  \n",
    "<div class=\"alert alert-warning\">\n",
    "  If I have some (optional) suggestions, or questions to think about, or general comments.\n",
    "</div>\n",
    "  \n",
    "<div class=\"alert alert-danger\">\n",
    "  If a section requires some corrections. Work can't be accepted with red comments.\n",
    "</div>\n",
    "  \n",
    "Please don't remove my comments, as it will make further review iterations much harder for me.\n",
    "  \n",
    "Feel free to reply to my comments or ask questions using the following template:\n",
    "  \n",
    "<div class=\"alert alert-info\">\n",
    "  For your comments and questions.\n",
    "</div>\n",
    "  \n",
    "First of all, thank you for turning in the project! You did a pretty good job overall, but there are a few problems that need to be fixed before the project is accepted. Let me know if you have questions!"
   ]
  },
  {
   "cell_type": "markdown",
   "metadata": {},
   "source": [
    "# Plan Recommendation Model for Megaline\n",
    " In this project, we aim to develop a classification model that helps the mobile network provider, Megaline, recommend the most suitable new plan for its subscribers. \n",
    "We have access to data from subscribers who have already transitioned to the new plans, which will serve as the foundation for the model. \n",
    " The task is to achieve a classification accuracy of at least 0.75 on a test dataset. The model will be evaluated using standard classification metrics such as accuracy, and the best-performing model will be selected based on its ability to generalize to unseen data. "
   ]
  },
  {
   "cell_type": "markdown",
   "metadata": {},
   "source": [
    "<div class=\"alert alert-warning\">\n",
    "<b>Reviewer's comment V1</b>\n",
    "    \n",
    "It's not a good idea to use sub headers for regular test. Headers and sub headers should be used for titles and subtitles only\n",
    "    \n",
    "</div>"
   ]
  },
  {
   "cell_type": "markdown",
   "metadata": {},
   "source": [
    "<div class=\"alert alert-success\">\n",
    "<b>Reviewer's comment V2</b>\n",
    "    \n",
    "Thank you!\n",
    "    \n",
    "</div>"
   ]
  },
  {
   "cell_type": "code",
   "execution_count": 1,
   "metadata": {},
   "outputs": [],
   "source": [
    "import pandas as pd\n",
    "from sklearn.model_selection import train_test_split\n",
    "from sklearn.metrics import accuracy_score\n",
    "from sklearn.tree import DecisionTreeClassifier\n",
    "from sklearn.ensemble import RandomForestClassifier\n",
    "from sklearn.linear_model import LogisticRegression"
   ]
  },
  {
   "cell_type": "code",
   "execution_count": 2,
   "metadata": {},
   "outputs": [
    {
     "data": {
      "text/html": [
       "<div>\n",
       "<style scoped>\n",
       "    .dataframe tbody tr th:only-of-type {\n",
       "        vertical-align: middle;\n",
       "    }\n",
       "\n",
       "    .dataframe tbody tr th {\n",
       "        vertical-align: top;\n",
       "    }\n",
       "\n",
       "    .dataframe thead th {\n",
       "        text-align: right;\n",
       "    }\n",
       "</style>\n",
       "<table border=\"1\" class=\"dataframe\">\n",
       "  <thead>\n",
       "    <tr style=\"text-align: right;\">\n",
       "      <th></th>\n",
       "      <th>calls</th>\n",
       "      <th>minutes</th>\n",
       "      <th>messages</th>\n",
       "      <th>mb_used</th>\n",
       "      <th>is_ultra</th>\n",
       "    </tr>\n",
       "  </thead>\n",
       "  <tbody>\n",
       "    <tr>\n",
       "      <th>0</th>\n",
       "      <td>40.0</td>\n",
       "      <td>311.90</td>\n",
       "      <td>83.0</td>\n",
       "      <td>19915.42</td>\n",
       "      <td>0</td>\n",
       "    </tr>\n",
       "    <tr>\n",
       "      <th>1</th>\n",
       "      <td>85.0</td>\n",
       "      <td>516.75</td>\n",
       "      <td>56.0</td>\n",
       "      <td>22696.96</td>\n",
       "      <td>0</td>\n",
       "    </tr>\n",
       "    <tr>\n",
       "      <th>2</th>\n",
       "      <td>77.0</td>\n",
       "      <td>467.66</td>\n",
       "      <td>86.0</td>\n",
       "      <td>21060.45</td>\n",
       "      <td>0</td>\n",
       "    </tr>\n",
       "    <tr>\n",
       "      <th>3</th>\n",
       "      <td>106.0</td>\n",
       "      <td>745.53</td>\n",
       "      <td>81.0</td>\n",
       "      <td>8437.39</td>\n",
       "      <td>1</td>\n",
       "    </tr>\n",
       "    <tr>\n",
       "      <th>4</th>\n",
       "      <td>66.0</td>\n",
       "      <td>418.74</td>\n",
       "      <td>1.0</td>\n",
       "      <td>14502.75</td>\n",
       "      <td>0</td>\n",
       "    </tr>\n",
       "    <tr>\n",
       "      <th>...</th>\n",
       "      <td>...</td>\n",
       "      <td>...</td>\n",
       "      <td>...</td>\n",
       "      <td>...</td>\n",
       "      <td>...</td>\n",
       "    </tr>\n",
       "    <tr>\n",
       "      <th>3209</th>\n",
       "      <td>122.0</td>\n",
       "      <td>910.98</td>\n",
       "      <td>20.0</td>\n",
       "      <td>35124.90</td>\n",
       "      <td>1</td>\n",
       "    </tr>\n",
       "    <tr>\n",
       "      <th>3210</th>\n",
       "      <td>25.0</td>\n",
       "      <td>190.36</td>\n",
       "      <td>0.0</td>\n",
       "      <td>3275.61</td>\n",
       "      <td>0</td>\n",
       "    </tr>\n",
       "    <tr>\n",
       "      <th>3211</th>\n",
       "      <td>97.0</td>\n",
       "      <td>634.44</td>\n",
       "      <td>70.0</td>\n",
       "      <td>13974.06</td>\n",
       "      <td>0</td>\n",
       "    </tr>\n",
       "    <tr>\n",
       "      <th>3212</th>\n",
       "      <td>64.0</td>\n",
       "      <td>462.32</td>\n",
       "      <td>90.0</td>\n",
       "      <td>31239.78</td>\n",
       "      <td>0</td>\n",
       "    </tr>\n",
       "    <tr>\n",
       "      <th>3213</th>\n",
       "      <td>80.0</td>\n",
       "      <td>566.09</td>\n",
       "      <td>6.0</td>\n",
       "      <td>29480.52</td>\n",
       "      <td>1</td>\n",
       "    </tr>\n",
       "  </tbody>\n",
       "</table>\n",
       "<p>3214 rows × 5 columns</p>\n",
       "</div>"
      ],
      "text/plain": [
       "      calls  minutes  messages   mb_used  is_ultra\n",
       "0      40.0   311.90      83.0  19915.42         0\n",
       "1      85.0   516.75      56.0  22696.96         0\n",
       "2      77.0   467.66      86.0  21060.45         0\n",
       "3     106.0   745.53      81.0   8437.39         1\n",
       "4      66.0   418.74       1.0  14502.75         0\n",
       "...     ...      ...       ...       ...       ...\n",
       "3209  122.0   910.98      20.0  35124.90         1\n",
       "3210   25.0   190.36       0.0   3275.61         0\n",
       "3211   97.0   634.44      70.0  13974.06         0\n",
       "3212   64.0   462.32      90.0  31239.78         0\n",
       "3213   80.0   566.09       6.0  29480.52         1\n",
       "\n",
       "[3214 rows x 5 columns]"
      ]
     },
     "execution_count": 2,
     "metadata": {},
     "output_type": "execute_result"
    }
   ],
   "source": [
    "users_behavior = pd.read_csv ('users_behavior.csv')\n",
    "users_behavior"
   ]
  },
  {
   "cell_type": "code",
   "execution_count": 3,
   "metadata": {},
   "outputs": [
    {
     "name": "stdout",
     "output_type": "stream",
     "text": [
      "<class 'pandas.core.frame.DataFrame'>\n",
      "RangeIndex: 3214 entries, 0 to 3213\n",
      "Data columns (total 5 columns):\n",
      " #   Column    Non-Null Count  Dtype  \n",
      "---  ------    --------------  -----  \n",
      " 0   calls     3214 non-null   float64\n",
      " 1   minutes   3214 non-null   float64\n",
      " 2   messages  3214 non-null   float64\n",
      " 3   mb_used   3214 non-null   float64\n",
      " 4   is_ultra  3214 non-null   int64  \n",
      "dtypes: float64(4), int64(1)\n",
      "memory usage: 125.7 KB\n"
     ]
    }
   ],
   "source": [
    "users_behavior.info()"
   ]
  },
  {
   "cell_type": "code",
   "execution_count": 4,
   "metadata": {},
   "outputs": [
    {
     "data": {
      "text/plain": [
       "Index(['calls', 'minutes', 'messages', 'mb_used', 'is_ultra'], dtype='object')"
      ]
     },
     "execution_count": 4,
     "metadata": {},
     "output_type": "execute_result"
    }
   ],
   "source": [
    "users_behavior.columns"
   ]
  },
  {
   "cell_type": "code",
   "execution_count": 5,
   "metadata": {},
   "outputs": [
    {
     "data": {
      "text/plain": [
       "0"
      ]
     },
     "execution_count": 5,
     "metadata": {},
     "output_type": "execute_result"
    }
   ],
   "source": [
    "users_behavior.duplicated().sum()"
   ]
  },
  {
   "cell_type": "code",
   "execution_count": 6,
   "metadata": {},
   "outputs": [
    {
     "data": {
      "text/plain": [
       "calls       0\n",
       "minutes     0\n",
       "messages    0\n",
       "mb_used     0\n",
       "is_ultra    0\n",
       "dtype: int64"
      ]
     },
     "execution_count": 6,
     "metadata": {},
     "output_type": "execute_result"
    }
   ],
   "source": [
    "users_behavior.isnull().sum()"
   ]
  },
  {
   "cell_type": "code",
   "execution_count": 7,
   "metadata": {},
   "outputs": [
    {
     "data": {
      "text/html": [
       "<div>\n",
       "<style scoped>\n",
       "    .dataframe tbody tr th:only-of-type {\n",
       "        vertical-align: middle;\n",
       "    }\n",
       "\n",
       "    .dataframe tbody tr th {\n",
       "        vertical-align: top;\n",
       "    }\n",
       "\n",
       "    .dataframe thead th {\n",
       "        text-align: right;\n",
       "    }\n",
       "</style>\n",
       "<table border=\"1\" class=\"dataframe\">\n",
       "  <thead>\n",
       "    <tr style=\"text-align: right;\">\n",
       "      <th></th>\n",
       "      <th>calls</th>\n",
       "      <th>minutes</th>\n",
       "      <th>messages</th>\n",
       "      <th>mb_used</th>\n",
       "      <th>is_ultra</th>\n",
       "    </tr>\n",
       "  </thead>\n",
       "  <tbody>\n",
       "    <tr>\n",
       "      <th>count</th>\n",
       "      <td>3214.000000</td>\n",
       "      <td>3214.000000</td>\n",
       "      <td>3214.000000</td>\n",
       "      <td>3214.000000</td>\n",
       "      <td>3214.000000</td>\n",
       "    </tr>\n",
       "    <tr>\n",
       "      <th>mean</th>\n",
       "      <td>63.038892</td>\n",
       "      <td>438.208787</td>\n",
       "      <td>38.281269</td>\n",
       "      <td>17207.673836</td>\n",
       "      <td>0.306472</td>\n",
       "    </tr>\n",
       "    <tr>\n",
       "      <th>std</th>\n",
       "      <td>33.236368</td>\n",
       "      <td>234.569872</td>\n",
       "      <td>36.148326</td>\n",
       "      <td>7570.968246</td>\n",
       "      <td>0.461100</td>\n",
       "    </tr>\n",
       "    <tr>\n",
       "      <th>min</th>\n",
       "      <td>0.000000</td>\n",
       "      <td>0.000000</td>\n",
       "      <td>0.000000</td>\n",
       "      <td>0.000000</td>\n",
       "      <td>0.000000</td>\n",
       "    </tr>\n",
       "    <tr>\n",
       "      <th>25%</th>\n",
       "      <td>40.000000</td>\n",
       "      <td>274.575000</td>\n",
       "      <td>9.000000</td>\n",
       "      <td>12491.902500</td>\n",
       "      <td>0.000000</td>\n",
       "    </tr>\n",
       "    <tr>\n",
       "      <th>50%</th>\n",
       "      <td>62.000000</td>\n",
       "      <td>430.600000</td>\n",
       "      <td>30.000000</td>\n",
       "      <td>16943.235000</td>\n",
       "      <td>0.000000</td>\n",
       "    </tr>\n",
       "    <tr>\n",
       "      <th>75%</th>\n",
       "      <td>82.000000</td>\n",
       "      <td>571.927500</td>\n",
       "      <td>57.000000</td>\n",
       "      <td>21424.700000</td>\n",
       "      <td>1.000000</td>\n",
       "    </tr>\n",
       "    <tr>\n",
       "      <th>max</th>\n",
       "      <td>244.000000</td>\n",
       "      <td>1632.060000</td>\n",
       "      <td>224.000000</td>\n",
       "      <td>49745.730000</td>\n",
       "      <td>1.000000</td>\n",
       "    </tr>\n",
       "  </tbody>\n",
       "</table>\n",
       "</div>"
      ],
      "text/plain": [
       "             calls      minutes     messages       mb_used     is_ultra\n",
       "count  3214.000000  3214.000000  3214.000000   3214.000000  3214.000000\n",
       "mean     63.038892   438.208787    38.281269  17207.673836     0.306472\n",
       "std      33.236368   234.569872    36.148326   7570.968246     0.461100\n",
       "min       0.000000     0.000000     0.000000      0.000000     0.000000\n",
       "25%      40.000000   274.575000     9.000000  12491.902500     0.000000\n",
       "50%      62.000000   430.600000    30.000000  16943.235000     0.000000\n",
       "75%      82.000000   571.927500    57.000000  21424.700000     1.000000\n",
       "max     244.000000  1632.060000   224.000000  49745.730000     1.000000"
      ]
     },
     "execution_count": 7,
     "metadata": {},
     "output_type": "execute_result"
    }
   ],
   "source": [
    "users_behavior.describe()"
   ]
  },
  {
   "cell_type": "code",
   "execution_count": 8,
   "metadata": {},
   "outputs": [
    {
     "data": {
      "text/html": [
       "<div>\n",
       "<style scoped>\n",
       "    .dataframe tbody tr th:only-of-type {\n",
       "        vertical-align: middle;\n",
       "    }\n",
       "\n",
       "    .dataframe tbody tr th {\n",
       "        vertical-align: top;\n",
       "    }\n",
       "\n",
       "    .dataframe thead th {\n",
       "        text-align: right;\n",
       "    }\n",
       "</style>\n",
       "<table border=\"1\" class=\"dataframe\">\n",
       "  <thead>\n",
       "    <tr style=\"text-align: right;\">\n",
       "      <th></th>\n",
       "      <th>calls</th>\n",
       "      <th>minutes</th>\n",
       "      <th>messages</th>\n",
       "      <th>mb_used</th>\n",
       "    </tr>\n",
       "    <tr>\n",
       "      <th>is_ultra</th>\n",
       "      <th></th>\n",
       "      <th></th>\n",
       "      <th></th>\n",
       "      <th></th>\n",
       "    </tr>\n",
       "  </thead>\n",
       "  <tbody>\n",
       "    <tr>\n",
       "      <th>0</th>\n",
       "      <td>58.463437</td>\n",
       "      <td>405.942952</td>\n",
       "      <td>33.384029</td>\n",
       "      <td>16208.466949</td>\n",
       "    </tr>\n",
       "    <tr>\n",
       "      <th>1</th>\n",
       "      <td>73.392893</td>\n",
       "      <td>511.224569</td>\n",
       "      <td>49.363452</td>\n",
       "      <td>19468.823228</td>\n",
       "    </tr>\n",
       "  </tbody>\n",
       "</table>\n",
       "</div>"
      ],
      "text/plain": [
       "              calls     minutes   messages       mb_used\n",
       "is_ultra                                                \n",
       "0         58.463437  405.942952  33.384029  16208.466949\n",
       "1         73.392893  511.224569  49.363452  19468.823228"
      ]
     },
     "execution_count": 8,
     "metadata": {},
     "output_type": "execute_result"
    }
   ],
   "source": [
    "users_behavior.groupby('is_ultra').mean()"
   ]
  },
  {
   "cell_type": "code",
   "execution_count": 9,
   "metadata": {},
   "outputs": [],
   "source": [
    "# Separation of features and target feature\n",
    "features = users_behavior.drop('is_ultra', axis=1)  \n",
    "target = users_behavior['is_ultra']\n"
   ]
  },
  {
   "cell_type": "code",
   "execution_count": 10,
   "metadata": {},
   "outputs": [],
   "source": [
    "# Splitting data into training, validation and test sets\n",
    "features_train, features_temp, target_train, target_temp = train_test_split(\n",
    "    features, target, test_size=0.4, random_state=42)\n",
    "\n",
    "features_valid, features_test, target_valid, target_test = train_test_split(\n",
    "    features_temp, target_temp, test_size=0.5, random_state=42)\n"
   ]
  },
  {
   "cell_type": "markdown",
   "metadata": {},
   "source": [
    "<div class=\"alert alert-success\">\n",
    "<b>Reviewer's comment V1</b>\n",
    "\n",
    "Everything is correct. Good job! \n",
    "    \n",
    "</div>"
   ]
  },
  {
   "cell_type": "code",
   "execution_count": 11,
   "metadata": {},
   "outputs": [
    {
     "name": "stdout",
     "output_type": "stream",
     "text": [
      "Logistic Regression Accuracy: 0.7402799377916018\n",
      "Decision Tree Accuracy: 0.7900466562986003\n",
      "Random Forest Accuracy: 0.8055987558320373\n",
      "\n",
      "Best model: Random Forest with Accuracy: 0.8055987558320373\n"
     ]
    }
   ],
   "source": [
    "# Dictionary for storing results\n",
    "results = {}\n",
    "\n",
    "# 1. Logistic Regression\n",
    "logistic_model = LogisticRegression(random_state=42, max_iter=1000)\n",
    "logistic_model.fit(features_train, target_train)\n",
    "logistic_predictions = logistic_model.predict(features_valid)\n",
    "logistic_accuracy = accuracy_score(target_valid, logistic_predictions)\n",
    "results['Logistic Regression'] = logistic_accuracy\n",
    "\n",
    "# 2. Decision Tree\n",
    "decision_tree = DecisionTreeClassifier(max_depth=10, random_state=54321)\n",
    "decision_tree.fit(features_train, target_train)\n",
    "tree_predictions = decision_tree.predict(features_valid)\n",
    "tree_accuracy = accuracy_score(target_valid, tree_predictions)\n",
    "results['Decision Tree'] = tree_accuracy\n",
    "\n",
    "# 3. Random Forest\n",
    "random_forest = RandomForestClassifier(n_estimators=40, max_depth=10, random_state=54321)\n",
    "random_forest.fit(features_train, target_train)\n",
    "forest_predictions = random_forest.predict(features_valid)\n",
    "forest_accuracy = accuracy_score(target_valid, forest_predictions)\n",
    "results['Random Forest'] = forest_accuracy\n",
    "\n",
    "# Display results\n",
    "for model, accuracy in results.items():\n",
    "    print(f\"{model} Accuracy: {accuracy}\")\n",
    "\n",
    "# Selecting the best model\n",
    "best_model_name = max(results, key=results.get)\n",
    "print(f\"\\nBest model: {best_model_name} with Accuracy: {results[best_model_name]}\")"
   ]
  },
  {
   "cell_type": "markdown",
   "metadata": {},
   "source": [
    "<div class=\"alert alert-danger\">\n",
    "<b>Reviewer's comment V1</b>\n",
    "\n",
    "Correct. But could you, please, tune hyperparameters at least for one model?\n",
    "    \n",
    "</div>"
   ]
  },
  {
   "cell_type": "markdown",
   "metadata": {},
   "source": [
    "<div class=\"alert alert-success\">\n",
    "<b>Reviewer's comment V2</b>\n",
    "\n",
    "Correct. Well done!\n",
    "    \n",
    "</div>"
   ]
  },
  {
   "cell_type": "markdown",
   "metadata": {},
   "source": [
    "Logistic regression achieved an accuracy of 0.7403, which is close to the threshold of 0.75, but not enough to achieve the required level.\n",
    "Decision tree achieved an accuracy of 0.7900, which is already above the threshold of 0.75, but remains below the accuracy of random forest.\n",
    "Random forest showed the best result with an accuracy of 0.8056, which is significantly higher than the required threshold and gives the best results among all models."
   ]
  },
  {
   "cell_type": "code",
   "execution_count": 12,
   "metadata": {},
   "outputs": [
    {
     "name": "stdout",
     "output_type": "stream",
     "text": [
      "max_depth = 1: 0.7309\n",
      "max_depth = 2: 0.7823\n",
      "max_depth = 3: 0.7916\n",
      "max_depth = 4: 0.7823\n",
      "max_depth = 5: 0.7745\n",
      "max_depth = 6: 0.7776\n",
      "max_depth = 7: 0.7823\n",
      "max_depth = 8: 0.7978\n",
      "max_depth = 9: 0.7854\n",
      "max_depth = 10: 0.7900\n",
      "\n",
      "Best max_depth: max_depth = 8 with accuracy: 0.7978\n"
     ]
    }
   ],
   "source": [
    "results_depth = {}\n",
    "\n",
    "# Loop to iterate over max_depth values\n",
    "for depth in range(1, 11):\n",
    "    decision_tree = DecisionTreeClassifier(max_depth=depth, random_state=54321)\n",
    "    decision_tree.fit(features_train, target_train)\n",
    "    tree_predictions = decision_tree.predict(features_valid)\n",
    "    accuracy = accuracy_score(target_valid, tree_predictions)\n",
    "    \n",
    "    # Storing results\n",
    "    results_depth[f\"max_depth = {depth}\"] = accuracy\n",
    "\n",
    "# Displaying results\n",
    "for depth, accuracy in results_depth.items():\n",
    "    print(f\"{depth}: {accuracy:.4f}\")\n",
    "\n",
    "# Selecting the best max_depth\n",
    "best_depth = max(results_depth, key=results_depth.get)\n",
    "print(f\"\\nBest max_depth: {best_depth} with accuracy: {results_depth[best_depth]:.4f}\")"
   ]
  },
  {
   "cell_type": "markdown",
   "metadata": {},
   "source": [
    "Based on the enumeration of various max_eep results for the DecisionTreeClassifier model, a maximum accuracy of 0.7978 was achieved when exploring a tree of 8.\n",
    "\n",
    "At low tree depths (e.g. max_eep = 1), the accuracy is lower at 0.7309, which is due to the insufficient structure of the model and the inability to capture all the patterns in the data.\n",
    "As the accuracy grade increased, the maximum max_eep = 8 gradually increased.\n",
    "After this increase in depth, there was no significant improvement, and sometimes it led to a decrease in accuracy due to possible overfitting."
   ]
  },
  {
   "cell_type": "code",
   "execution_count": 13,
   "metadata": {},
   "outputs": [
    {
     "name": "stdout",
     "output_type": "stream",
     "text": [
      "Accuracy on the test set: 0.8180404354587869\n"
     ]
    }
   ],
   "source": [
    "# Predictions on the test set\n",
    "if best_model_name == 'Logistic Regression':\n",
    "    best_model = logistic_model\n",
    "elif best_model_name == 'Decision Tree':\n",
    "    best_model = decision_tree\n",
    "else:\n",
    "    best_model = random_forest\n",
    "\n",
    "test_predictions = best_model.predict(features_test)\n",
    "test_accuracy = accuracy_score(target_test, test_predictions)\n",
    "print(f\"Accuracy on the test set: {test_accuracy}\")"
   ]
  },
  {
   "cell_type": "markdown",
   "metadata": {},
   "source": [
    "<div class=\"alert alert-success\">\n",
    "<b>Reviewer's comment V1</b>\n",
    "\n",
    "Well done!\n",
    "    \n",
    "</div>"
   ]
  },
  {
   "cell_type": "markdown",
   "metadata": {},
   "source": [
    "After selecting the best model (random forest), the accuracy on the test sample was 0.8180. This indicates good generalization ability of the model and confirms that random forest is able to effectively classify subscribers based on their behavior."
   ]
  }
 ],
 "metadata": {
  "ExecuteTimeLog": [
   {
    "duration": 279,
    "start_time": "2024-11-27T11:44:22.242Z"
   },
   {
    "duration": 510,
    "start_time": "2024-11-27T11:45:05.734Z"
   },
   {
    "duration": 285,
    "start_time": "2024-11-27T11:51:39.520Z"
   },
   {
    "duration": 515,
    "start_time": "2024-11-27T11:51:39.807Z"
   },
   {
    "duration": 5,
    "start_time": "2024-11-27T11:55:36.778Z"
   },
   {
    "duration": 57,
    "start_time": "2024-11-27T11:56:44.253Z"
   },
   {
    "duration": 57,
    "start_time": "2024-11-27T11:57:23.404Z"
   },
   {
    "duration": 58,
    "start_time": "2024-11-27T11:57:53.418Z"
   },
   {
    "duration": 57,
    "start_time": "2024-11-27T11:58:26.184Z"
   },
   {
    "duration": 57,
    "start_time": "2024-11-27T11:59:09.585Z"
   },
   {
    "duration": 305,
    "start_time": "2024-11-27T11:59:34.306Z"
   },
   {
    "duration": 511,
    "start_time": "2024-11-27T11:59:34.613Z"
   },
   {
    "duration": 292,
    "start_time": "2024-11-28T07:36:14.324Z"
   },
   {
    "duration": 556,
    "start_time": "2024-11-28T07:36:14.618Z"
   },
   {
    "duration": 4,
    "start_time": "2024-11-28T07:37:02.244Z"
   },
   {
    "duration": 59,
    "start_time": "2024-11-28T07:38:05.372Z"
   },
   {
    "duration": 8,
    "start_time": "2024-11-28T07:39:03.632Z"
   },
   {
    "duration": 13,
    "start_time": "2024-11-28T07:39:37.292Z"
   },
   {
    "duration": 5,
    "start_time": "2024-11-28T07:41:45.241Z"
   },
   {
    "duration": 59,
    "start_time": "2024-11-28T07:41:45.866Z"
   },
   {
    "duration": 18,
    "start_time": "2024-11-28T07:41:52.073Z"
   },
   {
    "duration": 59,
    "start_time": "2024-11-28T07:42:24.355Z"
   },
   {
    "duration": 14,
    "start_time": "2024-11-28T07:42:33.074Z"
   },
   {
    "duration": 9,
    "start_time": "2024-11-28T07:44:23.372Z"
   },
   {
    "duration": 6,
    "start_time": "2024-11-28T07:45:49.204Z"
   },
   {
    "duration": 6,
    "start_time": "2024-11-28T07:46:01.364Z"
   },
   {
    "duration": 18,
    "start_time": "2024-11-28T08:11:36.726Z"
   },
   {
    "duration": 8,
    "start_time": "2024-11-28T08:12:32.358Z"
   },
   {
    "duration": 4,
    "start_time": "2024-11-28T08:12:55.885Z"
   },
   {
    "duration": 14,
    "start_time": "2024-11-28T08:14:44.272Z"
   },
   {
    "duration": 13,
    "start_time": "2024-11-28T08:14:55.198Z"
   },
   {
    "duration": 2063,
    "start_time": "2024-11-28T08:15:37.200Z"
   },
   {
    "duration": 23,
    "start_time": "2024-11-28T08:15:42.588Z"
   },
   {
    "duration": 517,
    "start_time": "2024-11-28T09:46:06.139Z"
   },
   {
    "duration": 34,
    "start_time": "2024-11-28T09:51:27.334Z"
   },
   {
    "duration": 3,
    "start_time": "2024-11-28T10:07:43.844Z"
   },
   {
    "duration": 17,
    "start_time": "2024-11-28T10:07:44.256Z"
   },
   {
    "duration": 9,
    "start_time": "2024-11-28T10:07:44.691Z"
   },
   {
    "duration": 4,
    "start_time": "2024-11-28T10:07:45.121Z"
   },
   {
    "duration": 6,
    "start_time": "2024-11-28T10:07:46.297Z"
   },
   {
    "duration": 6,
    "start_time": "2024-11-28T10:07:46.705Z"
   },
   {
    "duration": 17,
    "start_time": "2024-11-28T10:07:47.162Z"
   },
   {
    "duration": 8,
    "start_time": "2024-11-28T10:07:48.026Z"
   },
   {
    "duration": 5,
    "start_time": "2024-11-28T10:07:50.241Z"
   },
   {
    "duration": 3,
    "start_time": "2024-11-28T10:08:06.595Z"
   },
   {
    "duration": 3,
    "start_time": "2024-11-28T10:08:08.161Z"
   },
   {
    "duration": 3,
    "start_time": "2024-11-28T10:08:28.737Z"
   },
   {
    "duration": 6,
    "start_time": "2024-11-28T10:08:30.562Z"
   },
   {
    "duration": 5,
    "start_time": "2024-11-28T10:08:31.211Z"
   },
   {
    "duration": 6,
    "start_time": "2024-11-28T10:32:19.657Z"
   },
   {
    "duration": 60,
    "start_time": "2024-11-28T10:45:12.194Z"
   },
   {
    "duration": 2,
    "start_time": "2024-11-28T10:45:34.828Z"
   },
   {
    "duration": 30,
    "start_time": "2024-11-28T10:45:37.914Z"
   },
   {
    "duration": 5,
    "start_time": "2024-11-28T10:49:08.452Z"
   },
   {
    "duration": 18,
    "start_time": "2024-11-28T10:51:04.847Z"
   },
   {
    "duration": 3,
    "start_time": "2024-11-28T10:51:11.790Z"
   },
   {
    "duration": 17,
    "start_time": "2024-11-28T10:51:14.597Z"
   },
   {
    "duration": 3,
    "start_time": "2024-11-28T10:52:21.391Z"
   },
   {
    "duration": 3407,
    "start_time": "2024-11-28T10:52:24.887Z"
   },
   {
    "duration": 15,
    "start_time": "2024-11-28T10:53:45.127Z"
   },
   {
    "duration": 3,
    "start_time": "2024-11-28T10:54:28.120Z"
   },
   {
    "duration": 8,
    "start_time": "2024-11-28T10:54:30.912Z"
   },
   {
    "duration": 367,
    "start_time": "2024-11-28T10:56:02.881Z"
   },
   {
    "duration": 463,
    "start_time": "2024-11-28T11:03:13.237Z"
   },
   {
    "duration": 2,
    "start_time": "2024-11-28T11:03:37.173Z"
   },
   {
    "duration": 447,
    "start_time": "2024-11-28T11:03:39.991Z"
   },
   {
    "duration": 960,
    "start_time": "2024-11-28T11:12:17.371Z"
   },
   {
    "duration": 18,
    "start_time": "2024-11-28T11:12:18.334Z"
   },
   {
    "duration": 10,
    "start_time": "2024-11-28T11:12:18.355Z"
   },
   {
    "duration": 4,
    "start_time": "2024-11-28T11:12:18.366Z"
   },
   {
    "duration": 5,
    "start_time": "2024-11-28T11:12:18.373Z"
   },
   {
    "duration": 89,
    "start_time": "2024-11-28T11:12:18.380Z"
   },
   {
    "duration": 17,
    "start_time": "2024-11-28T11:12:18.471Z"
   },
   {
    "duration": 8,
    "start_time": "2024-11-28T11:12:18.490Z"
   },
   {
    "duration": 4,
    "start_time": "2024-11-28T11:12:18.499Z"
   },
   {
    "duration": 6,
    "start_time": "2024-11-28T11:12:18.505Z"
   },
   {
    "duration": 58,
    "start_time": "2024-11-28T11:12:18.512Z"
   },
   {
    "duration": 3448,
    "start_time": "2024-11-28T11:12:18.571Z"
   },
   {
    "duration": 8,
    "start_time": "2024-11-28T11:12:22.021Z"
   },
   {
    "duration": 369,
    "start_time": "2024-11-28T11:12:22.043Z"
   },
   {
    "duration": 4,
    "start_time": "2024-11-28T11:15:52.527Z"
   },
   {
    "duration": 3,
    "start_time": "2024-11-28T11:16:41.563Z"
   },
   {
    "duration": 10,
    "start_time": "2024-11-28T11:16:52.536Z"
   },
   {
    "duration": 3,
    "start_time": "2024-11-28T11:16:59.809Z"
   },
   {
    "duration": 4,
    "start_time": "2024-11-28T11:17:16.338Z"
   },
   {
    "duration": 4,
    "start_time": "2024-11-28T11:19:27.483Z"
   },
   {
    "duration": 3,
    "start_time": "2024-11-28T11:19:39.300Z"
   },
   {
    "duration": 3,
    "start_time": "2024-11-28T11:30:33.108Z"
   },
   {
    "duration": 3,
    "start_time": "2024-11-28T11:35:40.645Z"
   },
   {
    "duration": 539,
    "start_time": "2024-11-28T11:35:57.709Z"
   },
   {
    "duration": 11,
    "start_time": "2024-11-28T11:36:02.924Z"
   },
   {
    "duration": 743,
    "start_time": "2024-11-28T11:36:14.536Z"
   },
   {
    "duration": 3,
    "start_time": "2024-11-28T11:36:56.989Z"
   },
   {
    "duration": 16,
    "start_time": "2024-11-28T11:37:12.700Z"
   },
   {
    "duration": 38,
    "start_time": "2024-11-28T11:37:40.703Z"
   },
   {
    "duration": 39,
    "start_time": "2024-11-28T11:38:06.479Z"
   },
   {
    "duration": 7,
    "start_time": "2024-11-28T12:06:13.632Z"
   },
   {
    "duration": 136,
    "start_time": "2024-11-28T12:06:49.281Z"
   },
   {
    "duration": 7,
    "start_time": "2024-11-28T12:06:56.157Z"
   },
   {
    "duration": 3,
    "start_time": "2024-11-28T12:08:26.315Z"
   },
   {
    "duration": 14,
    "start_time": "2024-11-28T12:08:26.843Z"
   },
   {
    "duration": 9,
    "start_time": "2024-11-28T12:08:27.418Z"
   },
   {
    "duration": 4,
    "start_time": "2024-11-28T12:08:27.803Z"
   },
   {
    "duration": 6,
    "start_time": "2024-11-28T12:08:28.154Z"
   },
   {
    "duration": 5,
    "start_time": "2024-11-28T12:08:28.811Z"
   },
   {
    "duration": 17,
    "start_time": "2024-11-28T12:08:30.906Z"
   },
   {
    "duration": 8,
    "start_time": "2024-11-28T12:08:33.570Z"
   },
   {
    "duration": 3,
    "start_time": "2024-11-28T12:08:37.700Z"
   },
   {
    "duration": 4,
    "start_time": "2024-11-28T12:09:12.812Z"
   },
   {
    "duration": 28,
    "start_time": "2024-11-28T12:09:15.796Z"
   },
   {
    "duration": 3422,
    "start_time": "2024-11-28T12:09:18.067Z"
   },
   {
    "duration": 8,
    "start_time": "2024-11-28T12:09:24.387Z"
   },
   {
    "duration": 362,
    "start_time": "2024-11-28T12:09:58.595Z"
   },
   {
    "duration": 15,
    "start_time": "2024-11-28T12:12:56.046Z"
   },
   {
    "duration": 16,
    "start_time": "2024-11-28T12:13:24.765Z"
   },
   {
    "duration": 92,
    "start_time": "2024-11-28T12:14:15.263Z"
   },
   {
    "duration": 18,
    "start_time": "2024-11-28T12:14:44.424Z"
   },
   {
    "duration": 4,
    "start_time": "2024-11-28T12:15:54.505Z"
   },
   {
    "duration": 16,
    "start_time": "2024-11-28T12:16:57.109Z"
   },
   {
    "duration": 20,
    "start_time": "2024-11-28T12:17:41.545Z"
   },
   {
    "duration": 2623,
    "start_time": "2024-12-01T09:34:36.369Z"
   },
   {
    "duration": 22,
    "start_time": "2024-12-01T09:34:38.995Z"
   },
   {
    "duration": 10,
    "start_time": "2024-12-01T09:34:39.018Z"
   },
   {
    "duration": 3,
    "start_time": "2024-12-01T09:34:39.031Z"
   },
   {
    "duration": 4,
    "start_time": "2024-12-01T09:34:39.037Z"
   },
   {
    "duration": 4,
    "start_time": "2024-12-01T09:34:39.043Z"
   },
   {
    "duration": 17,
    "start_time": "2024-12-01T09:34:39.049Z"
   },
   {
    "duration": 8,
    "start_time": "2024-12-01T09:34:39.068Z"
   },
   {
    "duration": 3,
    "start_time": "2024-12-01T09:34:39.108Z"
   },
   {
    "duration": 4,
    "start_time": "2024-12-01T09:34:39.113Z"
   },
   {
    "duration": 28,
    "start_time": "2024-12-01T09:34:39.119Z"
   },
   {
    "duration": 3344,
    "start_time": "2024-12-01T09:34:39.148Z"
   },
   {
    "duration": 16,
    "start_time": "2024-12-01T09:34:42.493Z"
   },
   {
    "duration": 362,
    "start_time": "2024-12-01T09:34:42.511Z"
   },
   {
    "duration": 19,
    "start_time": "2024-12-01T09:34:42.874Z"
   },
   {
    "duration": 4,
    "start_time": "2024-12-01T09:34:42.895Z"
   },
   {
    "duration": 20,
    "start_time": "2024-12-01T09:34:42.909Z"
   },
   {
    "duration": 242,
    "start_time": "2024-12-01T09:34:42.931Z"
   },
   {
    "duration": 0,
    "start_time": "2024-12-01T09:34:43.174Z"
   },
   {
    "duration": 0,
    "start_time": "2024-12-01T09:34:43.176Z"
   },
   {
    "duration": 0,
    "start_time": "2024-12-01T09:34:43.177Z"
   },
   {
    "duration": 3,
    "start_time": "2024-12-01T09:54:51.757Z"
   },
   {
    "duration": 16,
    "start_time": "2024-12-01T09:54:52.548Z"
   },
   {
    "duration": 9,
    "start_time": "2024-12-01T09:54:55.484Z"
   },
   {
    "duration": 3,
    "start_time": "2024-12-01T09:54:58.595Z"
   },
   {
    "duration": 5,
    "start_time": "2024-12-01T09:54:59.883Z"
   },
   {
    "duration": 5,
    "start_time": "2024-12-01T09:55:00.779Z"
   },
   {
    "duration": 17,
    "start_time": "2024-12-01T09:55:03.718Z"
   },
   {
    "duration": 8,
    "start_time": "2024-12-01T09:55:12.027Z"
   },
   {
    "duration": 4,
    "start_time": "2024-12-01T09:55:14.539Z"
   },
   {
    "duration": 4,
    "start_time": "2024-12-01T09:55:22.591Z"
   },
   {
    "duration": 892,
    "start_time": "2024-12-01T09:55:57.580Z"
   },
   {
    "duration": 15,
    "start_time": "2024-12-01T09:55:58.474Z"
   },
   {
    "duration": 18,
    "start_time": "2024-12-01T09:55:58.491Z"
   },
   {
    "duration": 4,
    "start_time": "2024-12-01T09:55:58.510Z"
   },
   {
    "duration": 6,
    "start_time": "2024-12-01T09:55:58.516Z"
   },
   {
    "duration": 52,
    "start_time": "2024-12-01T09:55:58.523Z"
   },
   {
    "duration": 36,
    "start_time": "2024-12-01T09:55:58.577Z"
   },
   {
    "duration": 8,
    "start_time": "2024-12-01T09:55:58.614Z"
   },
   {
    "duration": 3,
    "start_time": "2024-12-01T09:55:58.623Z"
   },
   {
    "duration": 4,
    "start_time": "2024-12-01T09:55:58.630Z"
   },
   {
    "duration": 26,
    "start_time": "2024-12-01T09:55:58.636Z"
   },
   {
    "duration": 3327,
    "start_time": "2024-12-01T09:55:58.663Z"
   },
   {
    "duration": 15,
    "start_time": "2024-12-01T09:56:01.993Z"
   },
   {
    "duration": 66,
    "start_time": "2024-12-01T09:57:47.923Z"
   },
   {
    "duration": 15,
    "start_time": "2024-12-01T09:57:53.219Z"
   },
   {
    "duration": 9,
    "start_time": "2024-12-01T09:57:54.891Z"
   },
   {
    "duration": 4,
    "start_time": "2024-12-01T09:57:55.598Z"
   },
   {
    "duration": 7,
    "start_time": "2024-12-01T09:57:56.362Z"
   },
   {
    "duration": 7,
    "start_time": "2024-12-01T09:57:56.883Z"
   },
   {
    "duration": 16,
    "start_time": "2024-12-01T09:57:57.899Z"
   },
   {
    "duration": 9,
    "start_time": "2024-12-01T09:58:02.337Z"
   },
   {
    "duration": 325,
    "start_time": "2024-12-01T09:58:26.779Z"
   },
   {
    "duration": 301,
    "start_time": "2024-12-01T09:58:46.255Z"
   },
   {
    "duration": 261,
    "start_time": "2024-12-01T09:58:55.157Z"
   },
   {
    "duration": 289,
    "start_time": "2024-12-01T09:59:02.424Z"
   },
   {
    "duration": 1016,
    "start_time": "2024-12-01T10:21:01.636Z"
   },
   {
    "duration": 16,
    "start_time": "2024-12-01T10:21:02.654Z"
   },
   {
    "duration": 8,
    "start_time": "2024-12-01T10:21:02.672Z"
   },
   {
    "duration": 3,
    "start_time": "2024-12-01T10:21:02.682Z"
   },
   {
    "duration": 22,
    "start_time": "2024-12-01T10:21:02.687Z"
   },
   {
    "duration": 5,
    "start_time": "2024-12-01T10:21:02.710Z"
   },
   {
    "duration": 16,
    "start_time": "2024-12-01T10:21:02.717Z"
   },
   {
    "duration": 7,
    "start_time": "2024-12-01T10:21:02.734Z"
   },
   {
    "duration": 302,
    "start_time": "2024-12-01T10:21:02.743Z"
   },
   {
    "duration": 3,
    "start_time": "2024-12-01T10:21:03.048Z"
   },
   {
    "duration": 5,
    "start_time": "2024-12-01T10:21:03.053Z"
   },
   {
    "duration": 27,
    "start_time": "2024-12-01T10:21:03.059Z"
   },
   {
    "duration": 3325,
    "start_time": "2024-12-01T10:21:03.088Z"
   },
   {
    "duration": 6,
    "start_time": "2024-12-01T10:21:06.415Z"
   },
   {
    "duration": 3,
    "start_time": "2024-12-01T10:28:51.463Z"
   },
   {
    "duration": 16,
    "start_time": "2024-12-01T10:28:53.038Z"
   },
   {
    "duration": 3,
    "start_time": "2024-12-01T10:28:58.582Z"
   },
   {
    "duration": 6,
    "start_time": "2024-12-01T10:28:59.204Z"
   },
   {
    "duration": 241,
    "start_time": "2024-12-01T10:29:14.618Z"
   },
   {
    "duration": 2,
    "start_time": "2024-12-01T10:29:39.999Z"
   },
   {
    "duration": 7,
    "start_time": "2024-12-01T10:29:40.553Z"
   },
   {
    "duration": 8,
    "start_time": "2024-12-01T10:29:57.211Z"
   },
   {
    "duration": 12,
    "start_time": "2024-12-01T10:30:38.425Z"
   },
   {
    "duration": 135,
    "start_time": "2024-12-01T10:30:52.697Z"
   },
   {
    "duration": 215,
    "start_time": "2024-12-01T10:31:35.249Z"
   },
   {
    "duration": 17,
    "start_time": "2024-12-01T10:38:15.598Z"
   },
   {
    "duration": 18,
    "start_time": "2024-12-01T10:39:04.070Z"
   },
   {
    "duration": 742,
    "start_time": "2024-12-01T10:44:23.594Z"
   },
   {
    "duration": 718,
    "start_time": "2024-12-01T10:44:45.546Z"
   },
   {
    "duration": 16,
    "start_time": "2024-12-01T10:45:46.387Z"
   },
   {
    "duration": 20,
    "start_time": "2024-12-01T10:45:57.267Z"
   },
   {
    "duration": 144,
    "start_time": "2024-12-01T10:47:01.760Z"
   },
   {
    "duration": 220,
    "start_time": "2024-12-01T10:47:07.599Z"
   },
   {
    "duration": 712,
    "start_time": "2024-12-01T10:47:10.308Z"
   },
   {
    "duration": 15,
    "start_time": "2024-12-01T10:47:13.203Z"
   },
   {
    "duration": 3,
    "start_time": "2024-12-01T10:53:48.754Z"
   },
   {
    "duration": 133,
    "start_time": "2024-12-01T10:54:06.995Z"
   },
   {
    "duration": 4,
    "start_time": "2024-12-01T10:54:39.826Z"
   },
   {
    "duration": 15,
    "start_time": "2024-12-01T11:10:00.597Z"
   },
   {
    "duration": 2,
    "start_time": "2024-12-01T11:10:13.277Z"
   },
   {
    "duration": 16,
    "start_time": "2024-12-01T11:10:15.595Z"
   },
   {
    "duration": 143,
    "start_time": "2024-12-01T11:10:32.461Z"
   },
   {
    "duration": 3,
    "start_time": "2024-12-01T11:10:45.062Z"
   },
   {
    "duration": 3,
    "start_time": "2024-12-01T11:10:52.860Z"
   },
   {
    "duration": 206,
    "start_time": "2024-12-01T11:11:04.295Z"
   },
   {
    "duration": 11,
    "start_time": "2024-12-01T11:11:22.126Z"
   },
   {
    "duration": 3,
    "start_time": "2024-12-01T11:12:18.380Z"
   },
   {
    "duration": 22,
    "start_time": "2024-12-01T11:12:46.165Z"
   },
   {
    "duration": 10,
    "start_time": "2024-12-01T11:12:53.733Z"
   },
   {
    "duration": 983,
    "start_time": "2024-12-01T11:13:05.301Z"
   },
   {
    "duration": 16,
    "start_time": "2024-12-01T11:13:06.287Z"
   },
   {
    "duration": 8,
    "start_time": "2024-12-01T11:13:06.309Z"
   },
   {
    "duration": 4,
    "start_time": "2024-12-01T11:13:06.319Z"
   },
   {
    "duration": 6,
    "start_time": "2024-12-01T11:13:06.324Z"
   },
   {
    "duration": 5,
    "start_time": "2024-12-01T11:13:06.331Z"
   },
   {
    "duration": 18,
    "start_time": "2024-12-01T11:13:06.338Z"
   },
   {
    "duration": 7,
    "start_time": "2024-12-01T11:13:06.358Z"
   },
   {
    "duration": 346,
    "start_time": "2024-12-01T11:13:06.368Z"
   },
   {
    "duration": 3,
    "start_time": "2024-12-01T11:13:06.716Z"
   },
   {
    "duration": 5,
    "start_time": "2024-12-01T11:13:06.721Z"
   },
   {
    "duration": 160,
    "start_time": "2024-12-01T11:13:06.727Z"
   },
   {
    "duration": 3,
    "start_time": "2024-12-01T11:13:06.889Z"
   },
   {
    "duration": 4,
    "start_time": "2024-12-01T11:13:06.893Z"
   },
   {
    "duration": 211,
    "start_time": "2024-12-01T11:13:06.909Z"
   },
   {
    "duration": 12,
    "start_time": "2024-12-01T11:13:07.121Z"
   },
   {
    "duration": 20,
    "start_time": "2024-12-01T11:13:07.134Z"
   },
   {
    "duration": 11,
    "start_time": "2024-12-01T11:13:07.155Z"
   },
   {
    "duration": 236,
    "start_time": "2024-12-01T11:14:29.383Z"
   },
   {
    "duration": 17,
    "start_time": "2024-12-01T11:14:34.890Z"
   },
   {
    "duration": 15,
    "start_time": "2024-12-01T11:14:37.767Z"
   },
   {
    "duration": 3,
    "start_time": "2024-12-01T11:15:01.136Z"
   },
   {
    "duration": 522,
    "start_time": "2024-12-01T11:15:05.704Z"
   },
   {
    "duration": 10,
    "start_time": "2024-12-01T11:15:07.707Z"
   },
   {
    "duration": 221,
    "start_time": "2024-12-01T11:20:16.550Z"
   },
   {
    "duration": 19,
    "start_time": "2024-12-01T11:22:49.840Z"
   },
   {
    "duration": 21,
    "start_time": "2024-12-01T11:24:17.286Z"
   },
   {
    "duration": 33,
    "start_time": "2024-12-01T11:24:27.759Z"
   },
   {
    "duration": 21,
    "start_time": "2024-12-01T11:24:42.631Z"
   },
   {
    "duration": 17,
    "start_time": "2024-12-01T11:26:54.015Z"
   },
   {
    "duration": 10,
    "start_time": "2024-12-01T11:27:10.353Z"
   },
   {
    "duration": 20,
    "start_time": "2024-12-01T11:34:53.037Z"
   },
   {
    "duration": 6,
    "start_time": "2024-12-01T11:36:13.903Z"
   },
   {
    "duration": 4,
    "start_time": "2024-12-01T11:37:00.343Z"
   },
   {
    "duration": 15,
    "start_time": "2024-12-01T11:37:00.741Z"
   },
   {
    "duration": 9,
    "start_time": "2024-12-01T11:37:01.399Z"
   },
   {
    "duration": 4,
    "start_time": "2024-12-01T11:37:01.959Z"
   },
   {
    "duration": 6,
    "start_time": "2024-12-01T11:37:02.214Z"
   },
   {
    "duration": 6,
    "start_time": "2024-12-01T11:37:02.430Z"
   },
   {
    "duration": 17,
    "start_time": "2024-12-01T11:37:02.990Z"
   },
   {
    "duration": 8,
    "start_time": "2024-12-01T11:37:05.574Z"
   },
   {
    "duration": 282,
    "start_time": "2024-12-01T11:37:06.389Z"
   },
   {
    "duration": 3,
    "start_time": "2024-12-01T11:37:09.441Z"
   },
   {
    "duration": 6,
    "start_time": "2024-12-01T11:37:11.094Z"
   },
   {
    "duration": 143,
    "start_time": "2024-12-01T11:37:12.392Z"
   },
   {
    "duration": 3,
    "start_time": "2024-12-01T11:37:13.935Z"
   },
   {
    "duration": 3,
    "start_time": "2024-12-01T11:37:17.050Z"
   },
   {
    "duration": 208,
    "start_time": "2024-12-01T11:37:21.174Z"
   },
   {
    "duration": 12,
    "start_time": "2024-12-01T11:37:29.814Z"
   },
   {
    "duration": 19,
    "start_time": "2024-12-01T11:37:39.310Z"
   },
   {
    "duration": 345,
    "start_time": "2024-12-01T11:38:02.849Z"
   },
   {
    "duration": 982,
    "start_time": "2024-12-01T11:46:49.711Z"
   },
   {
    "duration": 23,
    "start_time": "2024-12-01T11:46:50.695Z"
   },
   {
    "duration": 10,
    "start_time": "2024-12-01T11:46:50.719Z"
   },
   {
    "duration": 4,
    "start_time": "2024-12-01T11:46:50.731Z"
   },
   {
    "duration": 7,
    "start_time": "2024-12-01T11:46:50.736Z"
   },
   {
    "duration": 5,
    "start_time": "2024-12-01T11:46:50.744Z"
   },
   {
    "duration": 16,
    "start_time": "2024-12-01T11:46:50.750Z"
   },
   {
    "duration": 41,
    "start_time": "2024-12-01T11:46:50.768Z"
   },
   {
    "duration": 314,
    "start_time": "2024-12-01T11:46:50.810Z"
   },
   {
    "duration": 4,
    "start_time": "2024-12-01T11:46:51.127Z"
   },
   {
    "duration": 5,
    "start_time": "2024-12-01T11:46:51.132Z"
   },
   {
    "duration": 159,
    "start_time": "2024-12-01T11:46:51.139Z"
   },
   {
    "duration": 9,
    "start_time": "2024-12-01T11:46:51.300Z"
   },
   {
    "duration": 3,
    "start_time": "2024-12-01T11:46:51.311Z"
   },
   {
    "duration": 221,
    "start_time": "2024-12-01T11:46:51.316Z"
   },
   {
    "duration": 12,
    "start_time": "2024-12-01T11:46:51.538Z"
   },
   {
    "duration": 8,
    "start_time": "2024-12-01T11:47:43.776Z"
   },
   {
    "duration": 3,
    "start_time": "2024-12-01T11:50:50.681Z"
   },
   {
    "duration": 1034,
    "start_time": "2024-12-01T11:51:12.825Z"
   },
   {
    "duration": 17,
    "start_time": "2024-12-01T11:51:13.861Z"
   },
   {
    "duration": 9,
    "start_time": "2024-12-01T11:51:13.879Z"
   },
   {
    "duration": 18,
    "start_time": "2024-12-01T11:51:13.891Z"
   },
   {
    "duration": 6,
    "start_time": "2024-12-01T11:51:13.910Z"
   },
   {
    "duration": 4,
    "start_time": "2024-12-01T11:51:13.918Z"
   },
   {
    "duration": 16,
    "start_time": "2024-12-01T11:51:13.924Z"
   },
   {
    "duration": 7,
    "start_time": "2024-12-01T11:51:13.942Z"
   },
   {
    "duration": 307,
    "start_time": "2024-12-01T11:51:13.951Z"
   },
   {
    "duration": 3,
    "start_time": "2024-12-01T11:51:14.261Z"
   },
   {
    "duration": 5,
    "start_time": "2024-12-01T11:51:14.265Z"
   },
   {
    "duration": 154,
    "start_time": "2024-12-01T11:51:14.272Z"
   },
   {
    "duration": 3,
    "start_time": "2024-12-01T11:51:14.428Z"
   },
   {
    "duration": 3,
    "start_time": "2024-12-01T11:51:14.433Z"
   },
   {
    "duration": 225,
    "start_time": "2024-12-01T11:51:14.438Z"
   },
   {
    "duration": 11,
    "start_time": "2024-12-01T11:51:14.665Z"
   },
   {
    "duration": 8,
    "start_time": "2024-12-01T11:51:14.677Z"
   },
   {
    "duration": 3,
    "start_time": "2024-12-01T11:51:38.040Z"
   },
   {
    "duration": 4,
    "start_time": "2024-12-01T11:51:46.727Z"
   },
   {
    "duration": 10,
    "start_time": "2024-12-01T11:56:55.650Z"
   },
   {
    "duration": 5,
    "start_time": "2024-12-01T11:57:10.443Z"
   },
   {
    "duration": 10,
    "start_time": "2024-12-01T11:57:53.803Z"
   },
   {
    "duration": 5,
    "start_time": "2024-12-01T11:58:21.306Z"
   },
   {
    "duration": 9,
    "start_time": "2024-12-01T11:58:31.733Z"
   },
   {
    "duration": 5,
    "start_time": "2024-12-01T11:58:43.324Z"
   },
   {
    "duration": 13,
    "start_time": "2024-12-01T12:00:14.332Z"
   },
   {
    "duration": 7,
    "start_time": "2024-12-01T12:00:37.213Z"
   },
   {
    "duration": 6,
    "start_time": "2024-12-01T12:00:47.562Z"
   },
   {
    "duration": 10,
    "start_time": "2024-12-01T12:01:17.246Z"
   },
   {
    "duration": 20028,
    "start_time": "2024-12-01T12:01:26.373Z"
   },
   {
    "duration": 3,
    "start_time": "2024-12-01T12:02:03.347Z"
   },
   {
    "duration": 34,
    "start_time": "2024-12-01T12:02:08.831Z"
   },
   {
    "duration": 34,
    "start_time": "2024-12-01T12:02:16.574Z"
   },
   {
    "duration": 859,
    "start_time": "2024-12-01T12:02:52.669Z"
   },
   {
    "duration": 3993,
    "start_time": "2024-12-01T12:03:24.136Z"
   },
   {
    "duration": 3907,
    "start_time": "2024-12-01T12:03:38.860Z"
   },
   {
    "duration": 15634,
    "start_time": "2024-12-01T12:03:52.575Z"
   },
   {
    "duration": 11,
    "start_time": "2024-12-01T12:04:24.254Z"
   },
   {
    "duration": 5,
    "start_time": "2024-12-01T12:04:31.173Z"
   },
   {
    "duration": 5,
    "start_time": "2024-12-01T12:04:41.744Z"
   },
   {
    "duration": 4,
    "start_time": "2024-12-01T12:04:57.894Z"
   },
   {
    "duration": 4,
    "start_time": "2024-12-01T12:05:04.384Z"
   },
   {
    "duration": 3,
    "start_time": "2024-12-01T12:05:12.506Z"
   },
   {
    "duration": 2,
    "start_time": "2024-12-01T12:05:19.009Z"
   },
   {
    "duration": 3,
    "start_time": "2024-12-01T12:05:24.099Z"
   },
   {
    "duration": 132,
    "start_time": "2024-12-01T12:17:53.953Z"
   },
   {
    "duration": 4,
    "start_time": "2024-12-01T12:17:58.242Z"
   },
   {
    "duration": 15,
    "start_time": "2024-12-01T12:17:59.609Z"
   },
   {
    "duration": 3,
    "start_time": "2024-12-01T12:18:04.005Z"
   },
   {
    "duration": 6,
    "start_time": "2024-12-01T12:18:04.401Z"
   },
   {
    "duration": 133,
    "start_time": "2024-12-01T12:18:05.265Z"
   },
   {
    "duration": 134,
    "start_time": "2024-12-01T12:18:20.984Z"
   },
   {
    "duration": 3,
    "start_time": "2024-12-01T12:18:42.910Z"
   },
   {
    "duration": 3,
    "start_time": "2024-12-01T12:21:01.378Z"
   },
   {
    "duration": 3,
    "start_time": "2024-12-01T12:21:23.259Z"
   },
   {
    "duration": 9,
    "start_time": "2024-12-01T12:21:51.884Z"
   },
   {
    "duration": 143,
    "start_time": "2024-12-01T12:23:10.982Z"
   },
   {
    "duration": 3,
    "start_time": "2024-12-01T12:23:15.287Z"
   },
   {
    "duration": 276,
    "start_time": "2024-12-01T12:26:36.232Z"
   },
   {
    "duration": 274,
    "start_time": "2024-12-01T12:26:52.479Z"
   },
   {
    "duration": 138,
    "start_time": "2024-12-01T12:29:33.181Z"
   },
   {
    "duration": 116,
    "start_time": "2024-12-01T12:30:01.466Z"
   },
   {
    "duration": 4,
    "start_time": "2024-12-01T12:30:17.066Z"
   },
   {
    "duration": 1048,
    "start_time": "2024-12-01T12:32:48.799Z"
   },
   {
    "duration": 18,
    "start_time": "2024-12-01T12:32:49.850Z"
   },
   {
    "duration": 9,
    "start_time": "2024-12-01T12:32:49.871Z"
   },
   {
    "duration": 4,
    "start_time": "2024-12-01T12:32:49.882Z"
   },
   {
    "duration": 25,
    "start_time": "2024-12-01T12:32:49.887Z"
   },
   {
    "duration": 5,
    "start_time": "2024-12-01T12:32:49.913Z"
   },
   {
    "duration": 17,
    "start_time": "2024-12-01T12:32:49.920Z"
   },
   {
    "duration": 8,
    "start_time": "2024-12-01T12:32:49.939Z"
   },
   {
    "duration": 310,
    "start_time": "2024-12-01T12:32:49.949Z"
   },
   {
    "duration": 3,
    "start_time": "2024-12-01T12:32:50.263Z"
   },
   {
    "duration": 6,
    "start_time": "2024-12-01T12:32:50.268Z"
   },
   {
    "duration": 142,
    "start_time": "2024-12-01T12:33:12.009Z"
   },
   {
    "duration": 3,
    "start_time": "2024-12-01T12:33:33.359Z"
   },
   {
    "duration": 12,
    "start_time": "2024-12-01T12:33:47.406Z"
   },
   {
    "duration": 4,
    "start_time": "2024-12-01T12:34:55.113Z"
   },
   {
    "duration": 358,
    "start_time": "2024-12-01T12:35:24.892Z"
   },
   {
    "duration": 875,
    "start_time": "2024-12-01T12:37:11.823Z"
   },
   {
    "duration": 357,
    "start_time": "2024-12-01T12:44:24.211Z"
   },
   {
    "duration": 1058,
    "start_time": "2024-12-01T12:46:03.357Z"
   },
   {
    "duration": 18,
    "start_time": "2024-12-01T12:46:04.417Z"
   },
   {
    "duration": 9,
    "start_time": "2024-12-01T12:46:04.437Z"
   },
   {
    "duration": 4,
    "start_time": "2024-12-01T12:46:04.448Z"
   },
   {
    "duration": 5,
    "start_time": "2024-12-01T12:46:04.453Z"
   },
   {
    "duration": 5,
    "start_time": "2024-12-01T12:46:04.460Z"
   },
   {
    "duration": 46,
    "start_time": "2024-12-01T12:46:04.467Z"
   },
   {
    "duration": 8,
    "start_time": "2024-12-01T12:46:04.516Z"
   },
   {
    "duration": 327,
    "start_time": "2024-12-01T12:46:04.525Z"
   },
   {
    "duration": 3,
    "start_time": "2024-12-01T12:46:04.855Z"
   },
   {
    "duration": 6,
    "start_time": "2024-12-01T12:46:04.860Z"
   },
   {
    "duration": 375,
    "start_time": "2024-12-01T12:46:04.868Z"
   },
   {
    "duration": 367,
    "start_time": "2024-12-01T12:46:05.245Z"
   },
   {
    "duration": 143,
    "start_time": "2024-12-01T12:46:05.613Z"
   },
   {
    "duration": 10,
    "start_time": "2024-12-01T12:46:05.758Z"
   },
   {
    "duration": 1029,
    "start_time": "2024-12-01T13:13:15.106Z"
   },
   {
    "duration": 17,
    "start_time": "2024-12-01T13:13:16.137Z"
   },
   {
    "duration": 9,
    "start_time": "2024-12-01T13:13:16.156Z"
   },
   {
    "duration": 4,
    "start_time": "2024-12-01T13:13:16.167Z"
   },
   {
    "duration": 5,
    "start_time": "2024-12-01T13:13:16.174Z"
   },
   {
    "duration": 30,
    "start_time": "2024-12-01T13:13:16.180Z"
   },
   {
    "duration": 22,
    "start_time": "2024-12-01T13:13:16.211Z"
   },
   {
    "duration": 8,
    "start_time": "2024-12-01T13:13:16.234Z"
   },
   {
    "duration": 301,
    "start_time": "2024-12-01T13:13:16.243Z"
   },
   {
    "duration": 6,
    "start_time": "2024-12-01T13:13:16.546Z"
   },
   {
    "duration": 5,
    "start_time": "2024-12-01T13:13:16.554Z"
   },
   {
    "duration": 148,
    "start_time": "2024-12-01T13:13:16.561Z"
   },
   {
    "duration": 9,
    "start_time": "2024-12-01T13:13:16.710Z"
   },
   {
    "duration": 729,
    "start_time": "2024-12-01T13:19:24.099Z"
   },
   {
    "duration": 17,
    "start_time": "2024-12-01T13:19:24.830Z"
   },
   {
    "duration": 12,
    "start_time": "2024-12-01T13:19:24.849Z"
   },
   {
    "duration": 9,
    "start_time": "2024-12-01T13:19:24.863Z"
   },
   {
    "duration": 16,
    "start_time": "2024-12-01T13:19:24.874Z"
   },
   {
    "duration": 8,
    "start_time": "2024-12-01T13:19:24.892Z"
   },
   {
    "duration": 21,
    "start_time": "2024-12-01T13:19:24.901Z"
   },
   {
    "duration": 7,
    "start_time": "2024-12-01T13:19:24.923Z"
   },
   {
    "duration": 224,
    "start_time": "2024-12-01T13:19:24.932Z"
   },
   {
    "duration": 0,
    "start_time": "2024-12-01T13:19:25.158Z"
   },
   {
    "duration": 0,
    "start_time": "2024-12-01T13:19:25.159Z"
   },
   {
    "duration": 0,
    "start_time": "2024-12-01T13:19:25.160Z"
   },
   {
    "duration": 0,
    "start_time": "2024-12-01T13:19:25.161Z"
   },
   {
    "duration": 14,
    "start_time": "2024-12-01T13:21:55.928Z"
   },
   {
    "duration": 729,
    "start_time": "2024-12-01T13:22:20.001Z"
   },
   {
    "duration": 17,
    "start_time": "2024-12-01T13:22:20.732Z"
   },
   {
    "duration": 8,
    "start_time": "2024-12-01T13:22:20.750Z"
   },
   {
    "duration": 4,
    "start_time": "2024-12-01T13:22:20.760Z"
   },
   {
    "duration": 5,
    "start_time": "2024-12-01T13:22:20.767Z"
   },
   {
    "duration": 5,
    "start_time": "2024-12-01T13:22:20.773Z"
   },
   {
    "duration": 44,
    "start_time": "2024-12-01T13:22:20.779Z"
   },
   {
    "duration": 7,
    "start_time": "2024-12-01T13:22:20.824Z"
   },
   {
    "duration": 4,
    "start_time": "2024-12-01T13:22:20.832Z"
   },
   {
    "duration": 5,
    "start_time": "2024-12-01T13:22:20.837Z"
   },
   {
    "duration": 160,
    "start_time": "2024-12-01T13:22:20.844Z"
   },
   {
    "duration": 9,
    "start_time": "2024-12-01T13:22:21.006Z"
   },
   {
    "duration": 226,
    "start_time": "2024-12-01T13:22:21.017Z"
   },
   {
    "duration": 4,
    "start_time": "2024-12-01T13:23:50.765Z"
   },
   {
    "duration": 3,
    "start_time": "2024-12-01T13:23:57.697Z"
   },
   {
    "duration": 3,
    "start_time": "2024-12-01T13:24:04.246Z"
   },
   {
    "duration": 2,
    "start_time": "2024-12-01T13:24:09.222Z"
   },
   {
    "duration": 3,
    "start_time": "2024-12-01T13:24:13.752Z"
   },
   {
    "duration": 6,
    "start_time": "2024-12-01T17:55:35.081Z"
   },
   {
    "duration": 795,
    "start_time": "2024-12-01T18:40:11.429Z"
   },
   {
    "duration": 24,
    "start_time": "2024-12-01T18:40:13.159Z"
   },
   {
    "duration": 3,
    "start_time": "2024-12-01T18:40:21.030Z"
   },
   {
    "duration": 7,
    "start_time": "2024-12-01T18:40:22.422Z"
   },
   {
    "duration": 134,
    "start_time": "2024-12-01T18:40:24.682Z"
   },
   {
    "duration": 24,
    "start_time": "2024-12-01T18:40:29.279Z"
   },
   {
    "duration": 55,
    "start_time": "2024-12-01T18:43:33.456Z"
   },
   {
    "duration": 25,
    "start_time": "2024-12-01T18:44:24.216Z"
   },
   {
    "duration": 48,
    "start_time": "2024-12-01T18:44:45.458Z"
   },
   {
    "duration": 56,
    "start_time": "2024-12-01T18:44:57.833Z"
   },
   {
    "duration": 49,
    "start_time": "2024-12-01T18:47:23.068Z"
   },
   {
    "duration": 55,
    "start_time": "2024-12-01T18:47:37.572Z"
   },
   {
    "duration": 3,
    "start_time": "2024-12-01T18:49:37.383Z"
   },
   {
    "duration": 55,
    "start_time": "2024-12-01T18:49:55.461Z"
   },
   {
    "duration": 151,
    "start_time": "2024-12-01T18:50:02.224Z"
   },
   {
    "duration": 55,
    "start_time": "2024-12-01T18:50:05.215Z"
   },
   {
    "duration": 4,
    "start_time": "2024-12-01T18:50:08.133Z"
   },
   {
    "duration": 4,
    "start_time": "2024-12-01T18:50:21.708Z"
   },
   {
    "duration": 56,
    "start_time": "2024-12-01T18:50:51.697Z"
   },
   {
    "duration": 4,
    "start_time": "2024-12-01T18:50:55.328Z"
   },
   {
    "duration": 4,
    "start_time": "2024-12-01T18:50:58.438Z"
   },
   {
    "duration": 3,
    "start_time": "2024-12-01T18:51:52.630Z"
   },
   {
    "duration": 16,
    "start_time": "2024-12-01T18:51:54.174Z"
   },
   {
    "duration": 3,
    "start_time": "2024-12-01T18:51:57.953Z"
   },
   {
    "duration": 6,
    "start_time": "2024-12-01T18:51:58.373Z"
   },
   {
    "duration": 133,
    "start_time": "2024-12-01T18:52:01.230Z"
   },
   {
    "duration": 271,
    "start_time": "2024-12-01T18:52:09.057Z"
   },
   {
    "duration": 76,
    "start_time": "2024-12-01T18:52:44.751Z"
   },
   {
    "duration": 56,
    "start_time": "2024-12-01T18:54:08.480Z"
   },
   {
    "duration": 861,
    "start_time": "2024-12-01T18:55:42.504Z"
   },
   {
    "duration": 55,
    "start_time": "2024-12-01T18:55:54.138Z"
   },
   {
    "duration": 55,
    "start_time": "2024-12-01T18:56:23.419Z"
   },
   {
    "duration": 786,
    "start_time": "2024-12-01T19:01:04.409Z"
   },
   {
    "duration": 21,
    "start_time": "2024-12-01T19:01:05.197Z"
   },
   {
    "duration": 9,
    "start_time": "2024-12-01T19:01:05.220Z"
   },
   {
    "duration": 4,
    "start_time": "2024-12-01T19:01:05.231Z"
   },
   {
    "duration": 5,
    "start_time": "2024-12-01T19:01:05.236Z"
   },
   {
    "duration": 5,
    "start_time": "2024-12-01T19:01:05.243Z"
   },
   {
    "duration": 17,
    "start_time": "2024-12-01T19:01:05.250Z"
   },
   {
    "duration": 43,
    "start_time": "2024-12-01T19:01:05.269Z"
   },
   {
    "duration": 3,
    "start_time": "2024-12-01T19:01:05.314Z"
   },
   {
    "duration": 5,
    "start_time": "2024-12-01T19:01:05.319Z"
   },
   {
    "duration": 149,
    "start_time": "2024-12-01T19:01:05.325Z"
   },
   {
    "duration": 64,
    "start_time": "2024-12-01T19:01:05.475Z"
   },
   {
    "duration": 9,
    "start_time": "2024-12-01T19:01:05.541Z"
   }
  ],
  "kernelspec": {
   "display_name": "Python 3 (ipykernel)",
   "language": "python",
   "name": "python3"
  },
  "language_info": {
   "codemirror_mode": {
    "name": "ipython",
    "version": 3
   },
   "file_extension": ".py",
   "mimetype": "text/x-python",
   "name": "python",
   "nbconvert_exporter": "python",
   "pygments_lexer": "ipython3",
   "version": "3.9.19"
  },
  "toc": {
   "base_numbering": 1,
   "nav_menu": {},
   "number_sections": true,
   "sideBar": true,
   "skip_h1_title": true,
   "title_cell": "Table of Contents",
   "title_sidebar": "Contents",
   "toc_cell": false,
   "toc_position": {},
   "toc_section_display": true,
   "toc_window_display": false
  }
 },
 "nbformat": 4,
 "nbformat_minor": 2
}
